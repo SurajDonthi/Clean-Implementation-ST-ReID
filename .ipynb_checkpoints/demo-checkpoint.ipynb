{
 "cells": [
  {
   "cell_type": "markdown",
   "metadata": {
    "colab_type": "text",
    "id": "view-in-github"
   },
   "source": [
    "<a href=\"https://colab.research.google.com/github/SurajDonthi/Multi-Camera-Person-Re-Identification/blob/master/demo.ipynb\" target=\"_parent\"><img src=\"https://colab.research.google.com/assets/colab-badge.svg\" alt=\"Open In Colab\"/></a>"
   ]
  },
  {
   "cell_type": "code",
   "execution_count": 3,
   "metadata": {
    "id": "2MxchW5N4jXn"
   },
   "outputs": [],
   "source": [
    "#@title Setup Project, Environment & Data\n",
    "\n",
    "# ========================================================= PROJECT SETUP =========================================================\n",
    "# Clone Repo\n",
    "# !git clone --quiet --single-branch --branch master https://github.com/SurajDonthi/Multi-Camera-Person-Re-Identification.git\n",
    "# %cd ./Multi-Camera-Person-Re-Identification/\n",
    "!pip3 install --quiet -r requirements.txt\n",
    "\n",
    "# ++++++++++++++++++++++++ D A T A   D O W N L O A D ++++++++++++++++++++++++\n",
    "\n",
    "# Download Market-1501 Dataset\n",
    "# !wget --load-cookies /tmp/cookies.txt \"https://docs.google.com/uc?export=download&confirm=$(wget --quiet --save-cookies /tmp/cookies.txt --keep-session-cookies --no-check-certificate 'https://docs.google.com/uc?export=download&id=1ozb7D2cvc-TKVlLVCdYNWmTgZzEvNT4R' -O- | sed -rn 's/.*confirm=([0-9A-Za-z_]+).*/\\1\\n/p')&id=1ozb7D2cvc-TKVlLVCdYNWmTgZzEvNT4R\" -O ../market\\ 1501.zip && rm -rf /tmp/cookies.txt\n",
    "\n",
    "# Extract Market Dataset\n",
    "# !unzip -qq ../market\\ 1501.zip -d ./data/raw/\n",
    "# Data Cleaning - Fix file names\n",
    "# !find ./data/raw/Market-1501-v15.09.15 -name \"*.jpg.jpg\" -exec rename -v 's/\\.jpg.jpg$/\\.jpg/i' {} \\;\n",
    "\n",
    "# ++++++++++++++++++++++++++++++++++++++++++++++++++++++++++++++++++++++++++++\n",
    "\n",
    "# ================================================================================================================================="
   ]
  },
  {
   "cell_type": "code",
   "execution_count": 5,
   "metadata": {},
   "outputs": [
    {
     "data": {
      "text/plain": [
       "'1.1.1'"
      ]
     },
     "execution_count": 5,
     "metadata": {},
     "output_type": "execute_result"
    }
   ],
   "source": [
    "import pytorch_lightning as pl\n",
    "pl.__version__"
   ]
  },
  {
   "cell_type": "code",
   "execution_count": 6,
   "metadata": {
    "id": "UAkgIOSXbiuM"
   },
   "outputs": [
    {
     "ename": "ModuleNotFoundError",
     "evalue": "No module named 'metrics'",
     "output_type": "error",
     "traceback": [
      "\u001b[1;31m---------------------------------------------------------------------------\u001b[0m",
      "\u001b[1;31mModuleNotFoundError\u001b[0m                       Traceback (most recent call last)",
      "\u001b[1;32m<ipython-input-6-1c99164a1d91>\u001b[0m in \u001b[0;36m<module>\u001b[1;34m\u001b[0m\n\u001b[0;32m      9\u001b[0m \u001b[1;32mfrom\u001b[0m \u001b[0mpytorch_lightning\u001b[0m\u001b[1;33m.\u001b[0m\u001b[0mloggers\u001b[0m\u001b[1;33m.\u001b[0m\u001b[0mtest_tube\u001b[0m \u001b[1;32mimport\u001b[0m \u001b[0mTestTubeLogger\u001b[0m\u001b[1;33m\u001b[0m\u001b[1;33m\u001b[0m\u001b[0m\n\u001b[0;32m     10\u001b[0m \u001b[1;33m\u001b[0m\u001b[0m\n\u001b[1;32m---> 11\u001b[1;33m \u001b[1;32mfrom\u001b[0m \u001b[0mmtmct_reid\u001b[0m\u001b[1;33m.\u001b[0m\u001b[0mdata\u001b[0m \u001b[1;32mimport\u001b[0m \u001b[0mReIDDataModule\u001b[0m\u001b[1;33m\u001b[0m\u001b[1;33m\u001b[0m\u001b[0m\n\u001b[0m\u001b[0;32m     12\u001b[0m \u001b[1;32mfrom\u001b[0m \u001b[0mmtmct_reid\u001b[0m\u001b[1;33m.\u001b[0m\u001b[0mengine\u001b[0m \u001b[1;32mimport\u001b[0m \u001b[0mST_ReID\u001b[0m\u001b[1;33m\u001b[0m\u001b[1;33m\u001b[0m\u001b[0m\n\u001b[0;32m     13\u001b[0m \u001b[1;32mfrom\u001b[0m \u001b[0mmtmct_reid\u001b[0m\u001b[1;33m.\u001b[0m\u001b[0mutils\u001b[0m \u001b[1;32mimport\u001b[0m \u001b[0msave_args\u001b[0m\u001b[1;33m\u001b[0m\u001b[1;33m\u001b[0m\u001b[0m\n",
      "\u001b[1;32mD:\\Multi-Camera-Person-Re-Identification-master\\Multi-Camera-Person-Re-Identification-master\\mtmct_reid\\data.py\u001b[0m in \u001b[0;36m<module>\u001b[1;34m\u001b[0m\n\u001b[0;32m      9\u001b[0m \u001b[1;32mfrom\u001b[0m \u001b[0mtorchvision\u001b[0m \u001b[1;32mimport\u001b[0m \u001b[0mtransforms\u001b[0m\u001b[1;33m\u001b[0m\u001b[1;33m\u001b[0m\u001b[0m\n\u001b[0;32m     10\u001b[0m \u001b[1;33m\u001b[0m\u001b[0m\n\u001b[1;32m---> 11\u001b[1;33m \u001b[1;32mfrom\u001b[0m \u001b[0mmetrics\u001b[0m \u001b[1;32mimport\u001b[0m \u001b[0msmooth_st_distribution\u001b[0m\u001b[1;33m\u001b[0m\u001b[1;33m\u001b[0m\u001b[0m\n\u001b[0m\u001b[0;32m     12\u001b[0m \u001b[1;32mfrom\u001b[0m \u001b[0mutils\u001b[0m \u001b[1;32mimport\u001b[0m \u001b[0mget_ids\u001b[0m\u001b[1;33m\u001b[0m\u001b[1;33m\u001b[0m\u001b[0m\n\u001b[0;32m     13\u001b[0m \u001b[1;33m\u001b[0m\u001b[0m\n",
      "\u001b[1;31mModuleNotFoundError\u001b[0m: No module named 'metrics'"
     ]
    }
   ],
   "source": [
    "import os\n",
    "from argparse import Namespace\n",
    "\n",
    "from pathlib2 import Path\n",
    "from pytorch_lightning import Trainer\n",
    "from pytorch_lightning.callbacks.model_checkpoint import ModelCheckpoint\n",
    "# from pytorch_lightning.profiler import AdvancedProfiler\n",
    "from pytorch_lightning.loggers.tensorboard import TensorBoardLogger\n",
    "from pytorch_lightning.loggers.test_tube import TestTubeLogger\n",
    "\n",
    "from mtmct_reid.data import ReIDDataModule\n",
    "from mtmct_reid.engine import ST_ReID\n",
    "from mtmct_reid.utils import save_args\n",
    "\n",
    "import warnings\n",
    "\n",
    "warnings.filterwarnings('ignore')"
   ]
  },
  {
   "cell_type": "markdown",
   "metadata": {
    "id": "fkpp6btynLje"
   },
   "source": [
    "# Training"
   ]
  },
  {
   "cell_type": "code",
   "execution_count": null,
   "metadata": {
    "id": "GZGJYhoum2Jc"
   },
   "outputs": [],
   "source": [
    "%load_ext tensorboard\n",
    "%tensorboard --logdir logs/"
   ]
  },
  {
   "cell_type": "code",
   "execution_count": null,
   "metadata": {
    "id": "r5TCS_ejbxeM"
   },
   "outputs": [],
   "source": [
    "args = {\n",
    "    \"description\": \"Training and Predicting on Market-1501 Dataset\",\n",
    "    \"data_dir\": \"data/raw/Market-1501-v15.09.15\",\n",
    "    \"log_path\": \"logs/\",\n",
    "\n",
    "    \"learning_rate\": 0.1,\n",
    "    \"criterion\": \"cross_entropy\",\n",
    "    \"rerank\": False,\n",
    "    # \"random_erasing\": True,\n",
    "    # \"color_jitter\": True,\n",
    "\n",
    "    \"gpus\": 1,\n",
    "    \"max_epochs\": 60,\n",
    "    \"precision\": 16,\n",
    "    \"train_batchsize\": 64,\n",
    "    \"val_batchsize\": 64,\n",
    "    \"test_batchsize\": 64,\n",
    "    \"limit_val_batches\": 0.1,\n",
    "    \"profiler\": True,\n",
    "    \"progress_bar_refresh_rate\": 20\n",
    "}\n",
    "\n",
    "args = Namespace(**args)"
   ]
  },
  {
   "cell_type": "code",
   "execution_count": null,
   "metadata": {
    "id": "HmFXmbJF5zPh"
   },
   "outputs": [],
   "source": [
    "tt_logger = TestTubeLogger(save_dir=args.log_path, name=\"\",\n",
    "                            description=args.description,\n",
    "                            )\n",
    "\n",
    "log_dir = Path(tt_logger.save_dir) / f\"version_{tt_logger.version}\"\n",
    "\n",
    "checkpoint_dir = log_dir / \"checkpoints\"\n",
    "os.makedirs(checkpoint_dir, exist_ok=True)\n",
    "chkpt_callback = ModelCheckpoint(checkpoint_dir,\n",
    "                                    monitor='Loss/val_loss',\n",
    "                                    save_last=True,\n",
    "                                    mode='min',\n",
    "                                    save_top_k=10,\n",
    "                                    )\n",
    "\n",
    "data_module = ReIDDataModule.from_argparse_args(args)\n",
    "\n",
    "model = ST_ReID(data_module.num_classes, learning_rate=args.learning_rate,\n",
    "                criterion=args.criterion, rerank=args.rerank)\n",
    "\n",
    "save_args(args, log_dir)\n",
    "\n",
    "trainer = Trainer.from_argparse_args(args, logger=[tt_logger],\n",
    "                                        checkpoint_callback=chkpt_callback,\n",
    "                                        profiler=True)  # AdvancedProfiler()\n",
    "\n",
    "# \n",
    "trainer.fit(model, data_module)\n",
    "\n",
    "# Testing the loss & accuracy of the model\n",
    "trainer.test(model)"
   ]
  },
  {
   "cell_type": "markdown",
   "metadata": {
    "id": "TjRrg-CUm2B-"
   },
   "source": [
    "# Testing/Evaluation\n",
    "\n",
    "Use the model to predict matches from other cameras."
   ]
  },
  {
   "cell_type": "code",
   "execution_count": null,
   "metadata": {
    "id": "Osz2gI43m11l"
   },
   "outputs": [],
   "source": []
  },
  {
   "cell_type": "markdown",
   "metadata": {
    "id": "-mSZQsqhm1vK"
   },
   "source": [
    "# Save the results"
   ]
  },
  {
   "cell_type": "code",
   "execution_count": null,
   "metadata": {
    "id": "V0xdn_xim1ol"
   },
   "outputs": [],
   "source": [
    "!zip -r /content/experiment_results.zip /content/MTMCT-Person-Re-Identification/lightning_logs\n",
    "from google.colab import files\n",
    "files.download(\"/content/experiment_results.zip\")"
   ]
  }
 ],
 "metadata": {
  "accelerator": "GPU",
  "colab": {
   "authorship_tag": "ABX9TyOaDCkowcnoCfyduONyrRY2",
   "collapsed_sections": [],
   "include_colab_link": true,
   "mount_file_id": "1vdfxy8HJ2a8QrNRE9JYOOKI3bIY0YWu6",
   "name": "Colab demo.ipynb",
   "provenance": []
  },
  "kernelspec": {
   "display_name": "Python 3",
   "language": "python",
   "name": "python3"
  },
  "language_info": {
   "codemirror_mode": {
    "name": "ipython",
    "version": 3
   },
   "file_extension": ".py",
   "mimetype": "text/x-python",
   "name": "python",
   "nbconvert_exporter": "python",
   "pygments_lexer": "ipython3",
   "version": "3.7.10"
  }
 },
 "nbformat": 4,
 "nbformat_minor": 1
}
