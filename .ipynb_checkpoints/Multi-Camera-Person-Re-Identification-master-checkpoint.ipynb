{
 "cells": [
  {
   "cell_type": "code",
   "execution_count": 6,
   "id": "30fe51a2",
   "metadata": {},
   "outputs": [],
   "source": [
    "import os\n",
    "from argparse import Namespace\n",
    "\n",
    "from pathlib2 import Path\n",
    "from pytorch_lightning import Trainer\n",
    "from pytorch_lightning.callbacks.model_checkpoint import ModelCheckpoint\n",
    "# from pytorch_lightning.profiler import AdvancedProfiler\n",
    "from pytorch_lightning.loggers.tensorboard import TensorBoardLogger\n",
    "from pytorch_lightning.loggers.test_tube import TestTubeLogger\n",
    "\n",
    "from mtmct_reid.data import ReIDDataModule\n",
    "from mtmct_reid.engine import ST_ReID\n",
    "from mtmct_reid.utils import save_args\n",
    "\n",
    "import warnings\n",
    "\n",
    "warnings.filterwarnings('ignore')"
   ]
  },
  {
   "cell_type": "code",
   "execution_count": null,
   "id": "35d1adaf",
   "metadata": {},
   "outputs": [
    {
     "data": {
      "text/plain": [
       "Launching TensorBoard..."
      ]
     },
     "metadata": {},
     "output_type": "display_data"
    }
   ],
   "source": [
    "%load_ext tensorboard\n",
    "%tensorboard --logdir logs/"
   ]
  },
  {
   "cell_type": "code",
   "execution_count": null,
   "id": "71badf10",
   "metadata": {},
   "outputs": [],
   "source": [
    "args = {\n",
    "    \"description\": \"Training and Predicting on Market-1501 Dataset\",\n",
    "    \"data_dir\": \"data/raw/Market-1501-v15.09.15\",\n",
    "    \"log_path\": \"logs/\",\n",
    "\n",
    "    \"learning_rate\": 0.1,\n",
    "    \"criterion\": \"cross_entropy\",\n",
    "    \"rerank\": False,\n",
    "    # \"random_erasing\": True,\n",
    "    # \"color_jitter\": True,\n",
    "\n",
    "    \"gpus\": 1,\n",
    "    \"max_epochs\": 60,\n",
    "    \"precision\": 16,\n",
    "    \"train_batchsize\": 64,\n",
    "    \"val_batchsize\": 64,\n",
    "    \"test_batchsize\": 64,\n",
    "    \"limit_val_batches\": 0.1,\n",
    "    \"profiler\": True,\n",
    "    \"progress_bar_refresh_rate\": 20\n",
    "}\n",
    "\n",
    "args = Namespace(**args)"
   ]
  },
  {
   "cell_type": "code",
   "execution_count": null,
   "id": "74d714d5",
   "metadata": {},
   "outputs": [],
   "source": []
  }
 ],
 "metadata": {
  "kernelspec": {
   "display_name": "Python 3",
   "language": "python",
   "name": "python3"
  },
  "language_info": {
   "codemirror_mode": {
    "name": "ipython",
    "version": 3
   },
   "file_extension": ".py",
   "mimetype": "text/x-python",
   "name": "python",
   "nbconvert_exporter": "python",
   "pygments_lexer": "ipython3",
   "version": "3.7.10"
  }
 },
 "nbformat": 4,
 "nbformat_minor": 5
}
